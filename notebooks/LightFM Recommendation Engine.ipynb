{
 "cells": [
  {
   "cell_type": "markdown",
   "metadata": {
    "colab_type": "text",
    "id": "0JJ2NQ3Nx4W4"
   },
   "source": [
    "# Using LightFM for Recommendations\n",
    "\n",
    "Check out [LightFM here](https://lyst.github.io/lightfm/docs/index.html) and view it's [documentation here](http://lyst.github.io/lightfm/docs/home.html) \n",
    "\n",
    "LightFM is a Python implementation of a number of popular recommendation algorithms for both implicit and explicit feedback.\n",
    "\n",
    "It also makes it possible to incorporate both item and user metadata into the traditional matrix factorization algorithms. It represents each user and item as the sum of the latent representations of their features, thus allowing recommendations to generalise to new items (via item features) and to new users (via user features).\n",
    "\n",
    "The details of the approach are described in the LightFM paper, available on [arXiv](http://arxiv.org/abs/1507.08439).\n"
   ]
  },
  {
   "cell_type": "markdown",
   "metadata": {
    "colab_type": "text",
    "id": "mObVypUdyFfz"
   },
   "source": [
    "The first step is to get the Movielens data. This is a classic small recommender dataset, consisting of around 950 users, 1700 movies, and 100,000 ratings. The ratings are on a scale from 1 to 5, but we’ll all treat them as implicit positive feedback in this example.\n",
    "\n",
    "Fortunately, this is one of the functions provided by LightFM itself."
   ]
  },
  {
   "cell_type": "code",
   "execution_count": 2,
   "metadata": {
    "colab": {},
    "colab_type": "code",
    "id": "7A2Fptc1vy37"
   },
   "outputs": [],
   "source": [
    "# Import our modules\n",
    "import numpy as np\n",
    "from lightfm.datasets import fetch_movielens\n",
    "from lightfm import LightFM"
   ]
  },
  {
   "cell_type": "code",
   "execution_count": 4,
   "metadata": {
    "colab": {
     "base_uri": "https://localhost:8080/",
     "height": 225
    },
    "colab_type": "code",
    "executionInfo": {
     "elapsed": 2939,
     "status": "ok",
     "timestamp": 1575679124313,
     "user": {
      "displayName": "Rajeev Ratan",
      "photoUrl": "https://lh3.googleusercontent.com/a-/AAuE7mCGo6aIm0tOcd5EhqWlYb0rime9sBvHS9YMpx0D2w=s64",
      "userId": "08597265227091462140"
     },
     "user_tz": 240
    },
    "id": "8kEEE1vsv4Dp",
    "outputId": "c4e69f46-857a-4841-beed-1febcb2d35c5"
   },
   "outputs": [
    {
     "data": {
      "text/plain": [
       "{'train': <943x1682 sparse matrix of type '<class 'numpy.int32'>'\n",
       " \twith 49906 stored elements in COOrdinate format>,\n",
       " 'test': <943x1682 sparse matrix of type '<class 'numpy.int32'>'\n",
       " \twith 5469 stored elements in COOrdinate format>,\n",
       " 'item_features': <1682x1682 sparse matrix of type '<class 'numpy.float32'>'\n",
       " \twith 1682 stored elements in Compressed Sparse Row format>,\n",
       " 'item_feature_labels': array(['Toy Story (1995)', 'GoldenEye (1995)', 'Four Rooms (1995)', ...,\n",
       "        'Sliding Doors (1998)', 'You So Crazy (1994)',\n",
       "        'Scream of Stone (Schrei aus Stein) (1991)'], dtype=object),\n",
       " 'item_labels': array(['Toy Story (1995)', 'GoldenEye (1995)', 'Four Rooms (1995)', ...,\n",
       "        'Sliding Doors (1998)', 'You So Crazy (1994)',\n",
       "        'Scream of Stone (Schrei aus Stein) (1991)'], dtype=object)}"
      ]
     },
     "execution_count": 4,
     "metadata": {},
     "output_type": "execute_result"
    }
   ],
   "source": [
    "# Use one of LightFM's inbuild datasets, setting the minimum rating to return at over 4.0\n",
    "data = fetch_movielens(min_rating = 4.0)\n",
    "data"
   ]
  },
  {
   "cell_type": "code",
   "execution_count": 5,
   "metadata": {
    "colab": {
     "base_uri": "https://localhost:8080/",
     "height": 104
    },
    "colab_type": "code",
    "executionInfo": {
     "elapsed": 2565,
     "status": "ok",
     "timestamp": 1575679124317,
     "user": {
      "displayName": "Rajeev Ratan",
      "photoUrl": "https://lh3.googleusercontent.com/a-/AAuE7mCGo6aIm0tOcd5EhqWlYb0rime9sBvHS9YMpx0D2w=s64",
      "userId": "08597265227091462140"
     },
     "user_tz": 240
    },
    "id": "Q7eXzwwIyAaZ",
    "outputId": "25d245e0-10b9-4ea1-a2cd-b1c0252a45bb"
   },
   "outputs": [
    {
     "name": "stdout",
     "output_type": "stream",
     "text": [
      "train <class 'scipy.sparse.coo.coo_matrix'> (943, 1682)\n",
      "test <class 'scipy.sparse.coo.coo_matrix'> (943, 1682)\n",
      "item_features <class 'scipy.sparse.csr.csr_matrix'> (1682, 1682)\n",
      "item_feature_labels <class 'numpy.ndarray'> (1682,)\n",
      "item_labels <class 'numpy.ndarray'> (1682,)\n"
     ]
    }
   ],
   "source": [
    "# Get our key and value from our dataset\n",
    "# By printing it, we see it's comprised of a data segments containing test, train, item_features, item_feature_labels & item_labels \n",
    "for key, value in data.items():\n",
    "    print(key, type(value), value.shape)"
   ]
  },
  {
   "cell_type": "code",
   "execution_count": 6,
   "metadata": {
    "colab": {
     "base_uri": "https://localhost:8080/",
     "height": 35
    },
    "colab_type": "code",
    "executionInfo": {
     "elapsed": 940,
     "status": "ok",
     "timestamp": 1575679210431,
     "user": {
      "displayName": "Rajeev Ratan",
      "photoUrl": "https://lh3.googleusercontent.com/a-/AAuE7mCGo6aIm0tOcd5EhqWlYb0rime9sBvHS9YMpx0D2w=s64",
      "userId": "08597265227091462140"
     },
     "user_tz": 240
    },
    "id": "slPJ4hn_yNOj",
    "outputId": "cc3f09cc-88bc-4d84-8942-6759ccaf30b0"
   },
   "outputs": [
    {
     "data": {
      "text/plain": [
       "scipy.sparse.coo.coo_matrix"
      ]
     },
     "execution_count": 6,
     "metadata": {},
     "output_type": "execute_result"
    }
   ],
   "source": [
    "# What type of data are we working with? coo_matrix\n",
    "type(data['train'])"
   ]
  },
  {
   "cell_type": "code",
   "execution_count": 7,
   "metadata": {
    "colab": {
     "base_uri": "https://localhost:8080/",
     "height": 52
    },
    "colab_type": "code",
    "executionInfo": {
     "elapsed": 552,
     "status": "ok",
     "timestamp": 1575679213260,
     "user": {
      "displayName": "Rajeev Ratan",
      "photoUrl": "https://lh3.googleusercontent.com/a-/AAuE7mCGo6aIm0tOcd5EhqWlYb0rime9sBvHS9YMpx0D2w=s64",
      "userId": "08597265227091462140"
     },
     "user_tz": 240
    },
    "id": "tqBntxy9zHaF",
    "outputId": "5d08cfb2-51e2-40b1-b18d-58bfeb379b47"
   },
   "outputs": [
    {
     "name": "stdout",
     "output_type": "stream",
     "text": [
      "5\n",
      "0\n"
     ]
    }
   ],
   "source": [
    "# Each row represents a user, and each column an item. \n",
    "# We use .tocsr() to view it as a Compressed Sparse Row format, it's an inbuilt function in the coo_matrix object\n",
    "m1 = data['train'].tocsr()\n",
    "\n",
    "print(m1[0,0])\n",
    "print(m1[0,1])"
   ]
  },
  {
   "cell_type": "markdown",
   "metadata": {
    "colab_type": "text",
    "id": "ZcE4UE4Bytto"
   },
   "source": [
    "**coo_matrix - A sparse matrix in COOrdinate format - Intended Usage:**\n",
    "\n",
    "- COO is a fast format for constructing sparse matrices\n",
    "- Once a matrix has been constructed, convert to CSR or CSC format for fast arithmetic and matrix vector operations\n",
    "- By default when converting to CSR or CSC format, duplicate (i,j) entries will be summed together.  This facilitates efficient construction of finite element matrices and the like. (see example)"
   ]
  },
  {
   "cell_type": "code",
   "execution_count": 15,
   "metadata": {
    "colab": {
     "base_uri": "https://localhost:8080/",
     "height": 87
    },
    "colab_type": "code",
    "executionInfo": {
     "elapsed": 562,
     "status": "ok",
     "timestamp": 1575679432546,
     "user": {
      "displayName": "Rajeev Ratan",
      "photoUrl": "https://lh3.googleusercontent.com/a-/AAuE7mCGo6aIm0tOcd5EhqWlYb0rime9sBvHS9YMpx0D2w=s64",
      "userId": "08597265227091462140"
     },
     "user_tz": 240
    },
    "id": "L-ygYGxIv4O8",
    "outputId": "22a9487e-5ef8-4371-ae04-cb9943826568"
   },
   "outputs": [
    {
     "name": "stdout",
     "output_type": "stream",
     "text": [
      "<943x1682 sparse matrix of type '<class 'numpy.float32'>'\n",
      "\twith 49906 stored elements in COOrdinate format>\n",
      "<943x1682 sparse matrix of type '<class 'numpy.int32'>'\n",
      "\twith 5469 stored elements in COOrdinate format>\n"
     ]
    }
   ],
   "source": [
    "print(repr(data['train'])) # rept() is used in debugging to get a string representation of object\n",
    "print(repr(data['test']))"
   ]
  },
  {
   "cell_type": "markdown",
   "metadata": {
    "colab_type": "text",
    "id": "FoGJfN120J5Q"
   },
   "source": [
    "# Let's now create and train our model"
   ]
  },
  {
   "cell_type": "markdown",
   "metadata": {
    "colab_type": "text",
    "id": "HYbDfvRM8I5f"
   },
   "source": [
    "**Four loss functions are available:**\n",
    "\n",
    "- **logistic**: useful when both positive (1) and negative (-1) interactions are present.\n",
    "- **BPR**: Bayesian Personalised Ranking pairwise loss. Maximises the prediction difference between a positive example and a randomly chosen negative example. Useful when only positive interactions are present and optimising ROC AUC is desired.\n",
    "- **WARP**: Weighted Approximate-Rank Pairwise loss. Maximises the rank of positive examples by repeatedly sampling negative examples until rank violating one is found. Useful when only positive interactions are present and optimising the top of the recommendation list (precision@k) is desired.\n",
    "- **k-OS WARP**: k-th order statistic loss. A modification of WARP that uses the k-th positive example for any given user as a basis for pairwise updates.\n",
    "\n",
    "**Two learning rate schedules are available:**\n",
    "- adagrad\n",
    "- adadelta"
   ]
  },
  {
   "cell_type": "code",
   "execution_count": 16,
   "metadata": {
    "colab": {},
    "colab_type": "code",
    "id": "5_wQ4_WEv5VB"
   },
   "outputs": [],
   "source": [
    "# Creat our model object from LightFM\n",
    "# We specify the loss type to be WARP (Weighted Approximate-Rank Pairwise )\n",
    "model = LightFM(loss = 'warp')"
   ]
  },
  {
   "cell_type": "code",
   "execution_count": 17,
   "metadata": {
    "colab": {},
    "colab_type": "code",
    "id": "pJV2VOCav9zS"
   },
   "outputs": [],
   "source": [
    "# Extract our training and test datasets\n",
    "train = data['train']\n",
    "test = data['test']"
   ]
  },
  {
   "cell_type": "code",
   "execution_count": 18,
   "metadata": {
    "colab": {
     "base_uri": "https://localhost:8080/",
     "height": 35
    },
    "colab_type": "code",
    "executionInfo": {
     "elapsed": 805,
     "status": "ok",
     "timestamp": 1575681954903,
     "user": {
      "displayName": "Rajeev Ratan",
      "photoUrl": "https://lh3.googleusercontent.com/a-/AAuE7mCGo6aIm0tOcd5EhqWlYb0rime9sBvHS9YMpx0D2w=s64",
      "userId": "08597265227091462140"
     },
     "user_tz": 240
    },
    "id": "jemcXW9g9kne",
    "outputId": "3fc0c8af-3469-4128-903d-0c5ccfff1bf7"
   },
   "outputs": [
    {
     "data": {
      "text/plain": [
       "<lightfm.lightfm.LightFM at 0x7fa7fac46090>"
      ]
     },
     "execution_count": 18,
     "metadata": {},
     "output_type": "execute_result"
    }
   ],
   "source": [
    "# Fit our model over 10 epochs\n",
    "model.fit(train, epochs=10)"
   ]
  },
  {
   "cell_type": "markdown",
   "metadata": {
    "colab_type": "text",
    "id": "spfITtcp-By2"
   },
   "source": [
    "# Performance Evaluation\n",
    "\n",
    "We use Precision and AUC to avaluate our model performance.\n",
    "\n",
    "**The ROC AUC metric for a model**: the probability that a randomly chosen positive example has a higher score than a randomly chosen negative example. A perfect score is 1.0.\n",
    "\n",
    "**The precision at k metric for a model**: the fraction of known positives in the first k positions of the ranked list of results. A perfect score is 1.0."
   ]
  },
  {
   "cell_type": "code",
   "execution_count": 19,
   "metadata": {
    "colab": {
     "base_uri": "https://localhost:8080/",
     "height": 52
    },
    "colab_type": "code",
    "executionInfo": {
     "elapsed": 869,
     "status": "ok",
     "timestamp": 1575681963768,
     "user": {
      "displayName": "Rajeev Ratan",
      "photoUrl": "https://lh3.googleusercontent.com/a-/AAuE7mCGo6aIm0tOcd5EhqWlYb0rime9sBvHS9YMpx0D2w=s64",
      "userId": "08597265227091462140"
     },
     "user_tz": 240
    },
    "id": "DcD9wDSzzbCQ",
    "outputId": "10d18094-2a12-42ba-e839-148dac44fcd5"
   },
   "outputs": [
    {
     "name": "stdout",
     "output_type": "stream",
     "text": [
      "Precision: train 0.49, test 0.08.\n",
      "AUC: train 0.94, test 0.91.\n"
     ]
    }
   ],
   "source": [
    "# Evaluate it's performance\n",
    "from lightfm.evaluation import precision_at_k\n",
    "from lightfm.evaluation import auc_score\n",
    "\n",
    "train_precision = precision_at_k(model, train, k=10).mean()\n",
    "test_precision = precision_at_k(model, test, k=10).mean()\n",
    "\n",
    "train_auc = auc_score(model, train).mean()\n",
    "test_auc = auc_score(model, test).mean()\n",
    "\n",
    "print('Precision: train %.2f, test %.2f.' % (train_precision, test_precision))\n",
    "print('AUC: train %.2f, test %.2f.' % (train_auc, test_auc))"
   ]
  },
  {
   "cell_type": "markdown",
   "metadata": {
    "colab_type": "text",
    "id": "aRXeCHXG03GU"
   },
   "source": [
    " \n",
    "# Let's see what movies are recommended for some users"
   ]
  },
  {
   "cell_type": "code",
   "execution_count": 13,
   "metadata": {
    "colab": {},
    "colab_type": "code",
    "id": "uvC-B4rIv_Ka"
   },
   "outputs": [],
   "source": [
    "# Function credit goes to Arun Mathew Kurian\n",
    "# Let's test it out and see how well it works \n",
    "# https://towardsdatascience.com/how-to-build-a-movie-recommender-system-in-python-using-lightfm-8fa49d7cbe3b\n",
    "def sample_recommendation(model, data, user_ids):\n",
    "    '''uses model, data and a list of users ideas and outputs the recommended movies along with known positives for each user'''\n",
    "    n_users, n_items = data['train'].shape\n",
    "    for user_id in user_ids:\n",
    "        known_positives = data['item_labels'][data['train'].tocsr()[user_id].indices]\n",
    "        \n",
    "        scores = model.predict(user_id, np.arange(n_items))\n",
    "\n",
    "        top_items = data['item_labels'][np.argsort(-scores)]\n",
    "      \n",
    "        print(\"User %s\" % user_id)\n",
    "        print(\"Known positives:\")\n",
    "        \n",
    "        # Print the first 3 known positives\n",
    "        for x in known_positives[:3]:\n",
    "            print(\"%s\" % x)\n",
    "        \n",
    "        # Print the first 3 recommended movies\n",
    "        print(\"Recommended:\")\n",
    "        for x in top_items[:3]:\n",
    "            print(\"%s\" % x)\n",
    "        print(\"\\n\")"
   ]
  },
  {
   "cell_type": "code",
   "execution_count": 14,
   "metadata": {
    "colab": {
     "base_uri": "https://localhost:8080/",
     "height": 589
    },
    "colab_type": "code",
    "executionInfo": {
     "elapsed": 535,
     "status": "ok",
     "timestamp": 1575684162783,
     "user": {
      "displayName": "Rajeev Ratan",
      "photoUrl": "https://lh3.googleusercontent.com/a-/AAuE7mCGo6aIm0tOcd5EhqWlYb0rime9sBvHS9YMpx0D2w=s64",
      "userId": "08597265227091462140"
     },
     "user_tz": 240
    },
    "id": "IasvcwZ9wbUf",
    "outputId": "c4e51ecb-43a7-48e2-dcc8-e9aecc3a8072"
   },
   "outputs": [
    {
     "name": "stdout",
     "output_type": "stream",
     "text": [
      "User 6\n",
      "Known positives:\n",
      "Get Shorty (1995)\n",
      "Twelve Monkeys (1995)\n",
      "Babe (1995)\n",
      "Recommended:\n",
      "Raiders of the Lost Ark (1981)\n",
      "Casablanca (1942)\n",
      "Silence of the Lambs, The (1991)\n",
      "\n",
      "\n",
      "User 125\n",
      "Known positives:\n",
      "Jungle2Jungle (1997)\n",
      "Kull the Conqueror (1997)\n",
      "Scream (1996)\n",
      "Recommended:\n",
      "G.I. Jane (1997)\n",
      "L.A. Confidential (1997)\n",
      "Conspiracy Theory (1997)\n",
      "\n",
      "\n",
      "User 336\n",
      "Known positives:\n",
      "Mr. Holland's Opus (1995)\n",
      "Star Wars (1977)\n",
      "Ace Ventura: Pet Detective (1994)\n",
      "Recommended:\n",
      "Star Wars (1977)\n",
      "Return of the Jedi (1983)\n",
      "Raiders of the Lost Ark (1981)\n",
      "\n",
      "\n"
     ]
    }
   ],
   "source": [
    "# Testing on users 6, 125 and 336\n",
    "sample_recommendation(model, data, [6, 125, 336])"
   ]
  },
  {
   "cell_type": "markdown",
   "metadata": {
    "colab_type": "text",
    "id": "Cpao0Fmi0TcX"
   },
   "source": [
    "### Learn to build and create your own datasets for LightFM here\n",
    "\n",
    "https://lyst.github.io/lightfm/docs/examples/dataset.html"
   ]
  }
 ],
 "metadata": {
  "colab": {
   "name": "26.0 Case Study 14 - LightFM Recommendation Engine.ipynb",
   "provenance": []
  },
  "kernelspec": {
   "display_name": "Python 3",
   "language": "python",
   "name": "python3"
  },
  "language_info": {
   "codemirror_mode": {
    "name": "ipython",
    "version": 3
   },
   "file_extension": ".py",
   "mimetype": "text/x-python",
   "name": "python",
   "nbconvert_exporter": "python",
   "pygments_lexer": "ipython3",
   "version": "3.8.3"
  }
 },
 "nbformat": 4,
 "nbformat_minor": 1
}
